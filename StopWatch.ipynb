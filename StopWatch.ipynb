{
  "nbformat": 4,
  "nbformat_minor": 0,
  "metadata": {
    "colab": {
      "name": "StopWatch.ipynb",
      "provenance": []
    },
    "kernelspec": {
      "name": "python3",
      "display_name": "Python 3"
    },
    "language_info": {
      "name": "python"
    }
  },
  "cells": [
    {
      "cell_type": "code",
      "metadata": {
        "colab": {
          "base_uri": "https://localhost:8080/"
        },
        "id": "vAesA1QLP72y",
        "outputId": "996e4045-036e-4194-fadd-bacccbedfeef"
      },
      "source": [
        "import time\n",
        "print(\"Press Enter Buttom to start\")\n",
        "print(\"Cltr + c to Stop\")\n",
        "\n",
        "while True:\n",
        "    try:\n",
        "        input()\n",
        "        start=time.time()\n",
        "        print(\"Strated\")\n",
        "    except KeyboardInterrupt:\n",
        "        end=time.time()\n",
        "        print(\"Stop\")\n",
        "        print(\"Time is:\",round(end-start,2))\n",
        "        \n",
        "        break\n"
      ],
      "execution_count": 3,
      "outputs": [
        {
          "output_type": "stream",
          "name": "stdout",
          "text": [
            "Press Enter Buttom to start\n",
            "Cltr + c to Stop\n",
            "\n",
            "Strated\n",
            "Stop\n",
            "Time is: 3.55\n"
          ]
        }
      ]
    }
  ]
}